{
  "nbformat": 4,
  "nbformat_minor": 0,
  "metadata": {
    "colab": {
      "provenance": []
    },
    "kernelspec": {
      "name": "python3",
      "display_name": "Python 3"
    },
    "language_info": {
      "name": "python"
    }
  },
  "cells": [
    {
      "cell_type": "markdown",
      "source": [
        "# Python Basics Questions\n",
        "\n",
        " 1. What is Python, and why is it popular\n",
        "    - Python is high-level, interpreted programming language known for its simplicity and readability. It was created by Guido van Rossum and first released in 1991. Python code is easily readanle and we can easily understand the syntax.it has Extensive Libraries and Frameworks and it has Large Community Support\n",
        "      \n",
        " 2.What is an interpreter in Python\n",
        "   -  Interpreter in Python is a program that reads and executes Python code line by line, converting it into machine code at runtime. This allows for easier debugging and quick testing of code\n",
        "\n",
        " 3. What are pre-defined keywords in Python\n",
        "   - False, None, True, and, as, assert, async, await, break, class, continue, def, del, elif, else, except, finally, for, from, global, if, import, in, is, lambda, nonlocal, not, or, pass, raise, return, try, while, with, yield\n",
        "\n",
        " 4. Can keywords be used as variable names?\n",
        "  -  No, keywords in Python cannot be used as variable names because they are reserved for specific syntactic purposes in the language. Using them will result in a SyntaxError.\n",
        "\n",
        "5. What is mutability in Python?\n",
        " - Mutability refers to whether an object's state or content can be changed after creation. Mutable objects (like lists) can be modified, while immutable objects (like tuples) cannot.\n",
        "\n",
        "6. Why are lists mutable, but tuples are immutable?\n",
        " - Lists are designed to allow modifications like adding, removing, or changing elements, making them mutable. Tuples are immutable to ensure data integrity and improve performance.\n",
        "\n",
        "7. What is the difference between “==” and “is” operators in Python?\n",
        " - \"==\" checks if the values of two objects are equal, while \"is\" checks if two objects refer to the same memory location (identity).\n",
        "\n",
        "8. What are logical operators in Python?\n",
        " - Logical operators are used to combine conditional statements: and (both conditions true), or (at least one condition true), and not (inverts the condition).\n",
        "\n",
        "9. What is type casting in Python?\n",
        " - Type casting converts one data type to another, like turning an integer into a string using functions like int(), float(), or str().\n",
        "\n",
        "10. What is the difference between implicit and explicit type casting?\n",
        " - Implicit casting is automatically done by Python (e.g., int to float), while explicit casting requires manually converting types using functions like int(), float(), or str().\n",
        "\n",
        "11. What is the purpose of conditional statements in Python?\n",
        " - Conditional statements like if, elif, and else control the flow of a program by executing specific blocks of code based on whether conditions are True or False.\n",
        "\n",
        "12. How does the elif statement work?\n",
        " - The elif statement checks additional conditions after an if statement. It executes the first True condition it encounters, skipping the rest.\n",
        "\n",
        "13. What is the difference between for and while loops?\n",
        " - A for loop iterates over a sequence (like a list) a specific number of times, while a while loop continues running as long as its condition remains True.\n",
        "\n",
        "14. Describe a scenario where a while loop is more suitable than a for loop.\n",
        " - A while loop is better when the number of iterations isn't known in advance, like reading user input until they type \"exit\""
      ],
      "metadata": {
        "id": "h2mWpjviqYFC"
      }
    },
    {
      "cell_type": "code",
      "execution_count": null,
      "metadata": {
        "colab": {
          "base_uri": "https://localhost:8080/"
        },
        "id": "CbRY-0l3qU2B",
        "outputId": "be3ad5a3-5f80-42c6-f188-0931e9e3648f"
      },
      "outputs": [
        {
          "output_type": "stream",
          "name": "stdout",
          "text": [
            "Hello, World!\n",
            "vamsi 24\n",
            "pre-defined keywords are:\n",
            "['False', 'None', 'True', 'and', 'as', 'assert', 'async', 'await', 'break', 'class', 'continue', 'def', 'del', 'elif', 'else', 'except', 'finally', 'for', 'from', 'global', 'if', 'import', 'in', 'is', 'lambda', 'nonlocal', 'not', 'or', 'pass', 'raise', 'return', 'try', 'while', 'with', 'yield']\n"
          ]
        }
      ],
      "source": [
        "# 1. Write a Python program to print \"Hello, World!\"\n",
        "print(\"Hello, World!\")\n",
        "\n",
        "# 2. Write a Python program that displays your name and age.\n",
        "name =\"vamsi\"\n",
        "age=24\n",
        "print(name,age)\n",
        "\n",
        "\n",
        "# 3. Write code to print all the pre-defined keywords in Python using the keyword library\n",
        "import keyword\n",
        "print(\"pre-defined keywords are:\")\n",
        "print(keyword.kwlist)\n",
        "\n",
        "\n",
        "\n",
        "\n"
      ]
    },
    {
      "cell_type": "code",
      "source": [
        "#5.Create a list and tuple in Python, and demonstrate how attempting to change an element works differently for each\n",
        "\n",
        "my_list = [1, 2, 3, 4, 5]\n",
        "print(\"Original List:\", my_list)\n",
        "\n",
        "my_list[2] = 10\n",
        "print(\"Modified List:\", my_list)\n",
        "\n",
        "my_tuple = (1, 2, 3, 4, 5)\n",
        "print(\"Original Tuple:\", my_tuple)\n",
        "\n",
        "try:\n",
        "    my_tuple[2] = 10\n",
        "except TypeError as e:\n",
        "    print(\"Error while modifying Tuple:\", e)\n"
      ],
      "metadata": {
        "colab": {
          "base_uri": "https://localhost:8080/"
        },
        "id": "bLmm4OGEuW3G",
        "outputId": "03e15557-d445-4b10-ff91-9e7caf14aee2"
      },
      "execution_count": 11,
      "outputs": [
        {
          "output_type": "stream",
          "name": "stdout",
          "text": [
            "Original List: [1, 2, 3, 4, 5]\n",
            "Modified List: [1, 2, 10, 4, 5]\n",
            "Original Tuple: (1, 2, 3, 4, 5)\n",
            "Error while modifying Tuple: 'tuple' object does not support item assignment\n"
          ]
        }
      ]
    },
    {
      "cell_type": "code",
      "source": [
        "# 6. Write a function to demonstrate the behavior of mutable and immutable arguments.\n",
        "def demonstrate_mutable_immutable(mutable_arg, immutable_arg):\n",
        "    print(\"Before modification:\")\n",
        "    print(\"Mutable argument:\", mutable_arg)\n",
        "    print(\"Immutable argument:\", immutable_arg)\n",
        "\n",
        "    mutable_arg.append(100)\n",
        "    print(\"Modified mutable argument:\", mutable_arg)\n",
        "\n",
        "    immutable_arg += 10\n",
        "    print(\"Modified immutable argument:\", immutable_arg)\n",
        "\n",
        "my_list = [1, 2, 3]\n",
        "my_number = 5\n",
        "\n",
        "demonstrate_mutable_immutable(my_list, my_number)\n",
        "\n",
        "print(\"\\nAfter function call:\")\n",
        "print(\"Original mutable argument:\", my_list)\n",
        "print(\"Original immutable argument:\", my_number)\n",
        "\n",
        "\n"
      ],
      "metadata": {
        "colab": {
          "base_uri": "https://localhost:8080/"
        },
        "id": "LY2a1zMbycWW",
        "outputId": "a3502a93-c533-467a-9cfc-9bb26e434dad"
      },
      "execution_count": 12,
      "outputs": [
        {
          "output_type": "stream",
          "name": "stdout",
          "text": [
            "Before modification:\n",
            "Mutable argument: [1, 2, 3]\n",
            "Immutable argument: 5\n",
            "Modified mutable argument: [1, 2, 3, 100]\n",
            "Modified immutable argument: 15\n",
            "\n",
            "After function call:\n",
            "Original mutable argument: [1, 2, 3, 100]\n",
            "Original immutable argument: 5\n"
          ]
        }
      ]
    },
    {
      "cell_type": "code",
      "source": [
        "# 7. Write a program that performs basic arithmetic operations on two user-input numbers.\n",
        "\n",
        "num1 = float(input(\"Enter the first number: \"))\n",
        "num2 = float(input(\"Enter the second number: \"))\n",
        "\n",
        "\n",
        "addition = num1 + num2\n",
        "subtraction = num1 - num2\n",
        "multiplication = num1 * num2\n",
        "division = num1 / num2 if num2 != 0 else \"Undefined (Division by zero)\"\n",
        "\n",
        "\n",
        "print(f\"Addition: {num1} + {num2} = {addition}\")\n",
        "print(f\"Subtraction: {num1} - {num2} = {subtraction}\")\n",
        "print(f\"Multiplication: {num1} * {num2} = {multiplication}\")\n",
        "print(f\"Division: {num1} / {num2} = {division}\")\n"
      ],
      "metadata": {
        "colab": {
          "base_uri": "https://localhost:8080/"
        },
        "id": "zk1FbXjvzFwg",
        "outputId": "9e6249ea-2b9f-4dc7-ad13-5c5030afd2c0"
      },
      "execution_count": 13,
      "outputs": [
        {
          "output_type": "stream",
          "name": "stdout",
          "text": [
            "Enter the first number: 67\n",
            "Enter the second number: 657\n",
            "Addition: 67.0 + 657.0 = 724.0\n",
            "Subtraction: 67.0 - 657.0 = -590.0\n",
            "Multiplication: 67.0 * 657.0 = 44019.0\n",
            "Division: 67.0 / 657.0 = 0.1019786910197869\n"
          ]
        }
      ]
    },
    {
      "cell_type": "code",
      "source": [
        "# 8. Write a program to demonstrate the use of logical operators.\n",
        "x = int(input(\"Enter the first number (x): \"))\n",
        "y = int(input(\"Enter the second number (y): \"))\n",
        "\n",
        "print(f\"x = {x}, y = {y}\")\n",
        "\n",
        "if x > 0 and y > 0:\n",
        "    print(\"Both x and y are positive.\")\n",
        "else:\n",
        "    print(\"At least one of x or y is not positive.\")\n",
        "\n",
        "if x > 0 or y > 0:\n",
        "    print(\"At least one of x or y is positive.\")\n",
        "else:\n",
        "    print(\"Neither x nor y is positive.\")\n",
        "\n",
        "if not (x < 0):\n",
        "    print(\"x is not negative.\")\n",
        "else:\n",
        "    print(\"x is negative.\")\n"
      ],
      "metadata": {
        "colab": {
          "base_uri": "https://localhost:8080/"
        },
        "id": "vMMFBxJuzSms",
        "outputId": "d4468ab6-b9f7-4c11-bff1-e01ce49221ee"
      },
      "execution_count": 14,
      "outputs": [
        {
          "output_type": "stream",
          "name": "stdout",
          "text": [
            "Enter the first number (x): 77\n",
            "Enter the second number (y): 09\n",
            "x = 77, y = 9\n",
            "Both x and y are positive.\n",
            "At least one of x or y is positive.\n",
            "x is not negative.\n"
          ]
        }
      ]
    },
    {
      "cell_type": "code",
      "source": [
        "# 9. Write a Python program to convert user input from string to integer, float, and boolean types.\n",
        "\n",
        "user_input = input(\"Enter a value: \")\n",
        "\n",
        "\n",
        "int_value = int(user_input) if user_input.isdigit() else \"Invalid integer\"\n",
        "float_value = float(user_input) if user_input.replace('.', '', 1).isdigit() else \"Invalid float\"\n",
        "bool_value = user_input.lower() in ['true', '1', 'yes']\n",
        "\n",
        "\n",
        "print(f\"String input: {user_input}\")\n",
        "print(f\"Converted to integer: {int_value}\")\n",
        "print(f\"Converted to float: {float_value}\")\n",
        "print(f\"Converted to boolean: {bool_value}\")\n"
      ],
      "metadata": {
        "colab": {
          "base_uri": "https://localhost:8080/"
        },
        "id": "0j5daTpAzsyt",
        "outputId": "573383b7-4a03-4657-9402-2382f855edd9"
      },
      "execution_count": 15,
      "outputs": [
        {
          "output_type": "stream",
          "name": "stdout",
          "text": [
            "Enter a value: 56\n",
            "String input: 56\n",
            "Converted to integer: 56\n",
            "Converted to float: 56.0\n",
            "Converted to boolean: False\n"
          ]
        }
      ]
    },
    {
      "cell_type": "code",
      "source": [
        "# 10. Write code to demonstrate type casting with list elements\n",
        "my_list = ['1', '2', '3', '4', '5']\n",
        "\n",
        "int_list = [int(x) for x in my_list]\n",
        "float_list = [float(x) for x in my_list]\n",
        "str_list = [str(x) for x in int_list]\n",
        "\n",
        "print(\"Original list:\", my_list)\n",
        "print(\"List with integers:\", int_list)\n",
        "print(\"List with floats:\", float_list)\n",
        "print(\"List with strings:\", str_list)\n"
      ],
      "metadata": {
        "colab": {
          "base_uri": "https://localhost:8080/"
        },
        "id": "P_rbVZZkz750",
        "outputId": "153847e0-e568-483e-e062-e6b6979b1e6d"
      },
      "execution_count": 16,
      "outputs": [
        {
          "output_type": "stream",
          "name": "stdout",
          "text": [
            "Original list: ['1', '2', '3', '4', '5']\n",
            "List with integers: [1, 2, 3, 4, 5]\n",
            "List with floats: [1.0, 2.0, 3.0, 4.0, 5.0]\n",
            "List with strings: ['1', '2', '3', '4', '5']\n"
          ]
        }
      ]
    },
    {
      "cell_type": "code",
      "source": [
        "#11. Write a program that checks if a number is positive, negative, or zero.\n",
        "num = float(input(\"Enter a number: \"))\n",
        "\n",
        "if num > 0:\n",
        "    print(\"The number is positive.\")\n",
        "elif num < 0:\n",
        "    print(\"The number is negative.\")\n",
        "else:\n",
        "    print(\"The number is zero.\")\n"
      ],
      "metadata": {
        "colab": {
          "base_uri": "https://localhost:8080/"
        },
        "id": "hQsBcq7C0Rdy",
        "outputId": "63d3ac5d-4804-4461-9606-7d6e95d7e340"
      },
      "execution_count": 17,
      "outputs": [
        {
          "output_type": "stream",
          "name": "stdout",
          "text": [
            "Enter a number: 74\n",
            "The number is positive.\n"
          ]
        }
      ]
    },
    {
      "cell_type": "code",
      "source": [
        "#12. Write a for loop to print numbers from 1 to 10.\n",
        "for i in range(1, 11):\n",
        "    print(i)\n",
        "\n"
      ],
      "metadata": {
        "colab": {
          "base_uri": "https://localhost:8080/"
        },
        "id": "vIYDNsTI0Zna",
        "outputId": "5932d7ff-a653-45b1-ad4f-ee7b80d8bab8"
      },
      "execution_count": 19,
      "outputs": [
        {
          "output_type": "stream",
          "name": "stdout",
          "text": [
            "1\n",
            "2\n",
            "3\n",
            "4\n",
            "5\n",
            "6\n",
            "7\n",
            "8\n",
            "9\n",
            "10\n"
          ]
        }
      ]
    },
    {
      "cell_type": "code",
      "source": [
        "# 13. Write a Python program to find the sum of all even numbers between 1 and 50.\n",
        "sum_even = 0\n",
        "\n",
        "for i in range(2, 51, 2):\n",
        "    sum_even += i\n",
        "\n",
        "print(\"Sum of all even numbers between 1 and 50:\", sum_even)\n"
      ],
      "metadata": {
        "colab": {
          "base_uri": "https://localhost:8080/"
        },
        "id": "fZNhJpNT0imi",
        "outputId": "1e5c33ab-8fe6-4ef0-efc1-50aec83a6012"
      },
      "execution_count": 20,
      "outputs": [
        {
          "output_type": "stream",
          "name": "stdout",
          "text": [
            "Sum of all even numbers between 1 and 50: 650\n"
          ]
        }
      ]
    },
    {
      "cell_type": "code",
      "source": [
        "#14. Write a program to reverse a string using a while loop.\n",
        "string = input(\"Enter a string: \")\n",
        "reversed_string = \"\"\n",
        "i = len(string) - 1\n",
        "\n",
        "while i >= 0:\n",
        "    reversed_string += string[i]\n",
        "    i -= 1\n",
        "\n",
        "print(\"Reversed string:\", reversed_string)\n"
      ],
      "metadata": {
        "colab": {
          "base_uri": "https://localhost:8080/"
        },
        "id": "XvUYDuOK0yFp",
        "outputId": "5e0526b1-4133-4abf-ee6e-6b1549fc13c8"
      },
      "execution_count": 21,
      "outputs": [
        {
          "output_type": "stream",
          "name": "stdout",
          "text": [
            "Enter a string: vmasi\n",
            "Reversed string: isamv\n"
          ]
        }
      ]
    },
    {
      "cell_type": "code",
      "source": [
        "#15. Write a Python program to calculate the factorial of a number provided by the user using a while loop.\n",
        "num = int(input(\"Enter a number: \"))\n",
        "factorial = 1\n",
        "i = 1\n",
        "\n",
        "while i <= num:\n",
        "    factorial *= i\n",
        "    i += 1\n",
        "\n",
        "print(f\"The factorial of {num} is: {factorial}\")\n"
      ],
      "metadata": {
        "colab": {
          "base_uri": "https://localhost:8080/"
        },
        "id": "Nnw_0uAo05tT",
        "outputId": "d1816289-9785-41e4-fbd1-c4958e8b881b"
      },
      "execution_count": 22,
      "outputs": [
        {
          "output_type": "stream",
          "name": "stdout",
          "text": [
            "Enter a number: 67\n",
            "The factorial of 67 is: 36471110918188685288249859096605464427167635314049524593701628500267962436943872000000000000000\n"
          ]
        }
      ]
    },
    {
      "cell_type": "code",
      "source": [
        "# 4.Write a program that checks if a given word is a Python keyword.\n",
        "import keyword\n",
        "\n",
        "word = input(\"Enter a word to check if it's a Python keyword: \")\n",
        "\n",
        "if keyword.iskeyword(word):\n",
        "    print(f\"'{word}' is a Python keyword.\")\n",
        "else:\n",
        "    print(f\"'{word}' is NOT a Python keyword.\")\n"
      ],
      "metadata": {
        "id": "Dc4f5fx41Fhr"
      },
      "execution_count": null,
      "outputs": []
    },
    {
      "cell_type": "code",
      "source": [],
      "metadata": {
        "id": "035ITHde1k6u"
      },
      "execution_count": null,
      "outputs": []
    }
  ]
}